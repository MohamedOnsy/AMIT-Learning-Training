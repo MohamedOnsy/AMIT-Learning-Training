{
 "cells": [
  {
   "cell_type": "markdown",
   "id": "2a7378ab",
   "metadata": {},
   "source": [
    "##### 1. Write a program to find a maximum and a minimum of three numbers or if the numbers are equal to each other, find if the given number is positive or negative. EX : input :6,2,8 , output: minimum is 2 and maximum 8 , EX : input :1,1,1 , output: the num is 1."
   ]
  },
  {
   "cell_type": "code",
   "execution_count": 103,
   "id": "aec4a418",
   "metadata": {},
   "outputs": [
    {
     "name": "stdout",
     "output_type": "stream",
     "text": [
      "max num is 20 and min num is 6\n"
     ]
    }
   ],
   "source": [
    "lst = [6,20,10]\n",
    "max_num = lst[0]\n",
    "min_num = lst[0]\n",
    "all_num=True\n",
    "for num in lst:\n",
    "    if num != lst[0]:\n",
    "        all_num=False\n",
    "    if num > max_num:\n",
    "        max_num=num\n",
    "    if num < min_num:\n",
    "        min_num=num\n",
    "if all_num:\n",
    "    for n in lst:\n",
    "        if n==0:\n",
    "            print(f\"the num is {num}\")\n",
    "            break\n",
    "        elif n>0:\n",
    "            print(f\"the num is {num} and it is positive\")\n",
    "            break\n",
    "        else:\n",
    "            print(f\"the num is {num} and it is negative\")\n",
    "            break\n",
    "else:\n",
    "    print(f\"max num is {max_num} and min num is {min_num}\")"
   ]
  },
  {
   "cell_type": "markdown",
   "id": "65886931",
   "metadata": {},
   "source": [
    "##### 2. Write a program to ask from the user to write a word to check if it contains a vowel character or not. In case having a vowel character print its position. Ex: input “car” output : there is “a” (vowel character) in index 1."
   ]
  },
  {
   "cell_type": "code",
   "execution_count": 120,
   "id": "8c6d9167",
   "metadata": {},
   "outputs": [
    {
     "name": "stdout",
     "output_type": "stream",
     "text": [
      "the vowel character is a in index 1\n"
     ]
    }
   ],
   "source": [
    "word=input(\"enter the word th check\")\n",
    "for index,char in enumerate(word):\n",
    "    if char == 'a' or char == 'e' or char == 'i' or char == 'u' or char == 'o':\n",
    "        print (f'the vowel character is {char} in index {index}')"
   ]
  },
  {
   "cell_type": "markdown",
   "id": "38fac132",
   "metadata": {},
   "source": [
    "##### 3. Write a program to display the last digit of a number EX: number =145678 output => 8"
   ]
  },
  {
   "cell_type": "code",
   "execution_count": 131,
   "id": "f9eb2f00",
   "metadata": {},
   "outputs": [
    {
     "name": "stdout",
     "output_type": "stream",
     "text": [
      "the last digit => 8\n"
     ]
    }
   ],
   "source": [
    "num=145678\n",
    "num_str=str(num)\n",
    "last_digit=num_str[-1]\n",
    "print(f\"the last digit => {last_digit}\")    "
   ]
  },
  {
   "cell_type": "markdown",
   "id": "bac2c573",
   "metadata": {},
   "source": [
    "##### 4. Write a program to accept number from user and find if the number is divisible by 2 and 3 both."
   ]
  },
  {
   "cell_type": "code",
   "execution_count": 136,
   "id": "06713f7e",
   "metadata": {},
   "outputs": [
    {
     "name": "stdout",
     "output_type": "stream",
     "text": [
      "the number is accept divisible by 2 and 3 \n"
     ]
    }
   ],
   "source": [
    "num=int(input(\"enter the number to check if the number divisible by 2 and 3\"))\n",
    "if num % 2==0 and num % 3==0:\n",
    "    print(\"the number is accept divisible by 2 and 3 \")\n",
    "else:\n",
    "    print(\"the number is not accept divisible by 2 and 3\")\n"
   ]
  },
  {
   "cell_type": "markdown",
   "id": "2e67f782",
   "metadata": {},
   "source": [
    "##### 5. Write a program to accept the following from the user and calculate thepercentage of class attended, if the percentage is less than 75, then student will not be able to sit in exam:\n",
    "- Total number of working days\n",
    "- Total number of days for absent"
   ]
  },
  {
   "cell_type": "code",
   "execution_count": 139,
   "id": "6cad5f7d",
   "metadata": {},
   "outputs": [
    {
     "name": "stdout",
     "output_type": "stream",
     "text": [
      "the percentage of class attended = 80.0 so the student will be able to sit in exam\n"
     ]
    }
   ],
   "source": [
    "total_working_days=int(input(\"enter the total number of working days\"))\n",
    "total_absent_days=int(input(\"enter the total nunber of days for absent\"))\n",
    "\n",
    "calc_perc=((total_working_days-total_absent_days)/total_working_days)*100\n",
    "if calc_perc<75:\n",
    "    print(f'the percentage of class attended = {calc_perc} so the student will not be able to sit in exam')\n",
    "else:\n",
    "    print(f'the percentage of class attended = {calc_perc} so the student will be able to sit in exam')\n"
   ]
  },
  {
   "cell_type": "markdown",
   "id": "d55cfcd2",
   "metadata": {},
   "source": [
    "##### 6. Given a string, write a python program that convert the string based on the following conditions:\n",
    "- If lower case letter less than upper case letter convert string to upper case EX: AAAa → AAAA\n",
    "- If upper case letter less than lower case letter convert string to lower case EX: aaaA → aaaa"
   ]
  },
  {
   "cell_type": "code",
   "execution_count": 153,
   "id": "53a68ae8",
   "metadata": {},
   "outputs": [
    {
     "name": "stdout",
     "output_type": "stream",
     "text": [
      "car\n"
     ]
    }
   ],
   "source": [
    "word=input(\"enter the word to compar between upper case and lower case\")\n",
    "upper_count=0\n",
    "lower_count=0\n",
    "for char in word:\n",
    "    if char.isupper():\n",
    "        upper_count += 1\n",
    "    elif char.islower():\n",
    "        lower_count += 1\n",
    "    \n",
    "if upper_count > lower_count:\n",
    "        print(word.upper())\n",
    "        \n",
    "else:\n",
    "        print(word.lower())\n",
    "        "
   ]
  },
  {
   "cell_type": "markdown",
   "id": "57f89cd7",
   "metadata": {},
   "source": [
    "##### 7. Write a program to accept number from the user and check if the givennumber is palindrome(ex:12321) or Armstrong(ex: 153(13+53+33=1+125+27=153)) or not."
   ]
  },
  {
   "cell_type": "code",
   "execution_count": 173,
   "id": "8101e6d5",
   "metadata": {},
   "outputs": [
    {
     "name": "stdout",
     "output_type": "stream",
     "text": [
      "the number 1111 is palindrome and is not armstrong\n"
     ]
    }
   ],
   "source": [
    "num= int(input(\"enter the number to chek the number is palindrome or armstrong or not\"))\n",
    "num_str=str(num)\n",
    "num_len=len(num_str)\n",
    "total=0\n",
    "str_num= str(num)\n",
    "for number in num_str:\n",
    "    total+=int(number)**num_len\n",
    "if str_num == str_num[::-1] and total==num:\n",
    "    print(f\"the number {num} is palindrome and is armstrong\")\n",
    "elif str_num != str_num[::-1] and total == num:\n",
    "    print(f\"the number {num} is not palindrome and is armstrong\")\n",
    "elif str_num == str_num[::-1] and total!=num:\n",
    "        print(f\"the number {num} is palindrome and is not armstrong\")\n",
    "else:\n",
    "    print(f\"the number {num} is not palindrome and is not armstrong\")\n"
   ]
  },
  {
   "cell_type": "markdown",
   "id": "a16700fd",
   "metadata": {},
   "source": [
    "##### 8. Write a program to accept number from the user and convert it to words ➢ EX: 124 → One hundred and twenty-four. (Bonus)"
   ]
  },
  {
   "cell_type": "code",
   "execution_count": 176,
   "id": "103161be",
   "metadata": {},
   "outputs": [
    {
     "name": "stdout",
     "output_type": "stream",
     "text": [
      "the number 143 in word is one hundred and forty-three\n"
     ]
    }
   ],
   "source": [
    "from num2words import num2words\n",
    "\n",
    "number=int(input(\"enter the number to conver it to word\"))\n",
    "print(f\"the number {number} in word is {num2words(number)}\")\n"
   ]
  },
  {
   "cell_type": "markdown",
   "id": "9970f4b5",
   "metadata": {},
   "source": [
    "##### 9. Write a program to find the sum of the following series: 1 + 4 – 9 +16 – 25 + 36 ...........n terms , note the input is n; for example input: 5, output : 1 + 4 – 9 +16 – 25 = -13."
   ]
  },
  {
   "cell_type": "code",
   "execution_count": 25,
   "id": "97a169d6",
   "metadata": {},
   "outputs": [
    {
     "name": "stdout",
     "output_type": "stream",
     "text": [
      "1 + 4 - 9 + 16 - 25 = -13\n"
     ]
    }
   ],
   "source": [
    "n= int(input(\"enter the nu,ber to calculate\"))\n",
    "sum_num = 0 \n",
    "add = 0\n",
    "sub = 0\n",
    "term = \"\"\n",
    "for i in range(1,n+1):\n",
    "    if i % 2 == 0:\n",
    "        sum_num += (i**2)\n",
    "        term += f\" + {i**2}\"\n",
    "    else:\n",
    "        sum_num -= (i**2)\n",
    "        term += f\" - {i**2}\"\n",
    "\n",
    "term = term.lstrip()\n",
    "if term.startswith('-'):\n",
    "    term = term [1:].lstrip()\n",
    "sum_num = sum_num + (1**2)*2\n",
    "\n",
    "print(f\"{term} = {sum_num}\")\n"
   ]
  },
  {
   "cell_type": "markdown",
   "id": "6bfc8ba3",
   "metadata": {},
   "source": [
    "##### 10. Write a program to count number of “car” word in a string accepted from userand the positions of them. Ex: input: the car is red, output: the word car in position 2 in the text."
   ]
  },
  {
   "cell_type": "code",
   "execution_count": 58,
   "id": "f62640b4",
   "metadata": {},
   "outputs": [
    {
     "name": "stdout",
     "output_type": "stream",
     "text": [
      "the word car in position 1 in text\n"
     ]
    }
   ],
   "source": [
    "word = input(\"enter the word to count \")\n",
    "wrd=word.split()\n",
    "text = input(\"enter the text to define where is this text\")\n",
    "count = 0\n",
    "position = []\n",
    "for w in range(len(wrd)):\n",
    "    if wrd[w].lower() == text:\n",
    "        count += 1\n",
    "if count > 0:\n",
    "    print(f\"the word {text} in position {count} in text\")\n",
    "\n",
    "else:\n",
    "    print(\"the text doesnt exist\")\n",
    "\n"
   ]
  },
  {
   "cell_type": "markdown",
   "id": "2ed452b2",
   "metadata": {},
   "source": [
    "##### 11. Write a program that ask user to enter input (text or number or number with text):\n",
    "- In case the input is number get the summation of its digits.Ex: 123→6\n",
    "- In case the input is text remove the spaces. Ex: the car → thecar\n",
    "- In case number with text split them, number and text each individually.\n",
    "##### Ex: 23 st → [12] [st]"
   ]
  },
  {
   "cell_type": "code",
   "execution_count": 85,
   "id": "aeb007a9",
   "metadata": {},
   "outputs": [
    {
     "name": "stdout",
     "output_type": "stream",
     "text": [
      "the number part is [15] and the letter part is [word]\n"
     ]
    }
   ],
   "source": [
    "words = input(\"enter the number,text,....\")\n",
    "\n",
    "if words.isdigit():\n",
    "    total=0\n",
    "    for i in words:\n",
    "        total += int(i)\n",
    "    print(f\"sum of number = {total}\")\n",
    "\n",
    "elif words.replace(\" \", \"\").isalpha():\n",
    "    result = \"\"\n",
    "    for char in words:\n",
    "        if char != \" \":\n",
    "            result += char\n",
    "    print(f\"the text without space {result}\")\n",
    "else :\n",
    "    number=\"\"\n",
    "    letter=\"\"\n",
    "    for char in words:\n",
    "        if char.isdigit():\n",
    "            number += char\n",
    "        elif char.isalpha():\n",
    "            letter += char\n",
    "    print(f\"the number part is [{number}] and the letter part is [{letter}]\") \n"
   ]
  },
  {
   "cell_type": "markdown",
   "id": "3f18cc70",
   "metadata": {},
   "source": [
    "##### 12. Write a Python program to calculate the average value of the numbers in agiven tuple of tuples. Original Tuple: ((10, 10, 10, 12), (30, 45, 56, 45), (81, 80, 39, 32), (1, 2, 3, 4)) Average value of the numbers of the said tuple of tuples: [30.5, 34.25, 27.0, 23.25]"
   ]
  },
  {
   "cell_type": "code",
   "execution_count": 111,
   "id": "383316d1",
   "metadata": {},
   "outputs": [
    {
     "name": "stdout",
     "output_type": "stream",
     "text": [
      "[30.5, 34.25, 27.0, 23.25]\n"
     ]
    }
   ],
   "source": [
    "tuple=((10,10,10,12),(30,45,56,45),(81,80,39,32),(1,2,3,4))\n",
    "num_col=len(tuple[0])\n",
    "num_row=len(tuple)\n",
    "average_lst=[]\n",
    "\n",
    "for col in range(num_col):\n",
    "    sum_tpl = 0\n",
    "    for row in range(num_row):\n",
    "        sum_tpl += tuple[row][col]\n",
    "    average=sum_tpl / num_row\n",
    "    average_lst.append(average)\n",
    "print(average_lst)\n",
    "\n"
   ]
  },
  {
   "cell_type": "markdown",
   "id": "29a3803b",
   "metadata": {},
   "source": [
    "##### 13. Write a Python program to check if a list is empty or not. if not, sort it in increasing order."
   ]
  },
  {
   "cell_type": "code",
   "execution_count": null,
   "id": "3c57c181",
   "metadata": {},
   "outputs": [
    {
     "name": "stdout",
     "output_type": "stream",
     "text": [
      " the list sort it in increasing order ['0', '1', '2', '3', '4', '5', '6', '7', '8', '9']\n"
     ]
    }
   ],
   "source": [
    "lst=input(\"enter the numbers\").split()\n",
    "if not lst:\n",
    "    print(\"the list is empty please fill the list\")\n",
    "else:\n",
    "    lst.sort()\n",
    "    print(f\" the list sort it in increasing order {lst}\")\n"
   ]
  },
  {
   "cell_type": "markdown",
   "id": "86c7f5a1",
   "metadata": {},
   "source": [
    "##### 14. Write a Python program to print the numbers of a specified list after removing even numbers from it. Ex: Input : list = [4, 6, 3, 7], K = 2 Output : [3,7]"
   ]
  },
  {
   "cell_type": "code",
   "execution_count": 1,
   "id": "8fdf5ae2",
   "metadata": {},
   "outputs": [
    {
     "name": "stdout",
     "output_type": "stream",
     "text": [
      "the list after removing even numbers: [1, 3, 5, 7, 9]  ,and K = 5\n"
     ]
    }
   ],
   "source": [
    "lst=[1,2,3,4,5,6,7,8,9,10]\n",
    "new_lst=[]\n",
    "count=0\n",
    "for i in lst:\n",
    "    if i % 2 == 0:\n",
    "        count += 1\n",
    "    else:\n",
    "        new_lst.append(i)\n",
    "print(f\"the list after removing even numbers: {new_lst}  ,and K = {count}\")\n"
   ]
  },
  {
   "cell_type": "markdown",
   "id": "17c0fb17",
   "metadata": {},
   "source": [
    "##### "
   ]
  },
  {
   "cell_type": "markdown",
   "id": "892927fc",
   "metadata": {},
   "source": [
    "##### 15. Write a Python program to extract elements with Frequency greater than element K. Ex: Input : test_list = [4, 6, 4, 3, 3, 4, 3, 4, 6, 6], K = 2 Output : [4, 3, 6]"
   ]
  },
  {
   "cell_type": "code",
   "execution_count": 19,
   "id": "5efa5e06",
   "metadata": {},
   "outputs": [
    {
     "name": "stdout",
     "output_type": "stream",
     "text": [
      "K = 2, list after extract element[3, 4, 6]\n"
     ]
    }
   ],
   "source": [
    "lst = [4, 6, 4, 3, 3, 4, 3, 4, 6, 6]\n",
    "new_lst = []\n",
    "k=int(input(\"enter the number of frequency K\"))\n",
    "count = 0\n",
    "for i in lst:\n",
    "    if i == lst[i]:\n",
    "        count += 1\n",
    "    if count > k and i not in new_lst:\n",
    "        new_lst.append(i) \n",
    "print(f\"K = {k}, list after extract element{new_lst}\")"
   ]
  },
  {
   "cell_type": "markdown",
   "id": "c8863ccb",
   "metadata": {},
   "source": [
    "##### 16. Write a Python program to Sort Dictionary key and values List.EX: Input : {‘c’:[3], ‘b’: [12, 10], ‘a’: [19, 4]} Output : {‘a’: [4, 19], ‘b’: [10, 12], ‘c’: [3]}"
   ]
  },
  {
   "cell_type": "code",
   "execution_count": 38,
   "id": "ac64cb66",
   "metadata": {},
   "outputs": [
    {
     "data": {
      "text/plain": [
       "{'a': [4, 19], 'b': [10, 12], 'c': [3]}"
      ]
     },
     "execution_count": 38,
     "metadata": {},
     "output_type": "execute_result"
    }
   ],
   "source": [
    "my_dict={'c': [3] , 'b' : [12 , 10], 'a' : [19, 4]}\n",
    "\n",
    "for key,val in my_dict.items():\n",
    "    my_dict[key] = sorted(val)\n",
    "\n",
    "sort_dict = dict(sorted(my_dict.items()))\n",
    "\n",
    "sort_dict"
   ]
  },
  {
   "cell_type": "markdown",
   "id": "419e776c",
   "metadata": {},
   "source": [
    "##### 17. Write a Python program to create a dictionary that stores the names of 3 students, each student has another dictionary with their 'age' and 'grades'. Allow editing of a student’s age or grades. The user should choose which student to edit, and then either update the age or modify the list of grades.EX: the dictionary looks like → students = { 'Alice': {'age': 20, 'grades': [85, 90,92]}, 'Bob': {'age': 21, 'grades': [75, 80, 78]}, 'Charlie': {'age': 19, 'grades': [95, 97, 93]} }"
   ]
  },
  {
   "cell_type": "code",
   "execution_count": 55,
   "id": "f38974a6",
   "metadata": {},
   "outputs": [
    {
     "name": "stdout",
     "output_type": "stream",
     "text": [
      "dictionary after update: {'Alice': {'age': 20, 'grades': [85, 90, 92]}, 'Bob': {'age': 21, 'grades': [90, 85, 80]}, 'Charlie': {'age': 19, 'grades': [95, 97, 93]}}\n"
     ]
    }
   ],
   "source": [
    "students_dict = { 'Alice': {'age': 20, 'grades': [85, 90,92]},\n",
    "             'Bob': {'age': 21, 'grades': [75, 80, 78]},\n",
    "             'Charlie': {'age': 19, 'grades': [95, 97,93]} }\n",
    "students_name=input(\"enter the name to search to change age or grade\")\n",
    "if students_name in students_dict:\n",
    "    choose = input(\"enter what you need change\")\n",
    "    if choose == 'age':\n",
    "        new_age=int(input(\"enter the new age\"))\n",
    "        students_dict[students_name]['age'] = new_age\n",
    "    elif choose == 'grades':\n",
    "        new_grades=input(\"enter the new grades to update\")\n",
    "        students_dict[students_name]['grades'] = list(map(int,new_grades.split()))\n",
    "            \n",
    "    print(f\"dictionary after update: {students_dict}\")\n",
    "else:\n",
    "    print(\"student not found.\")"
   ]
  },
  {
   "cell_type": "code",
   "execution_count": null,
   "id": "9cbdfeaf",
   "metadata": {},
   "outputs": [],
   "source": []
  }
 ],
 "metadata": {
  "kernelspec": {
   "display_name": "Python 3",
   "language": "python",
   "name": "python3"
  },
  "language_info": {
   "codemirror_mode": {
    "name": "ipython",
    "version": 3
   },
   "file_extension": ".py",
   "mimetype": "text/x-python",
   "name": "python",
   "nbconvert_exporter": "python",
   "pygments_lexer": "ipython3",
   "version": "3.13.5"
  }
 },
 "nbformat": 4,
 "nbformat_minor": 5
}
